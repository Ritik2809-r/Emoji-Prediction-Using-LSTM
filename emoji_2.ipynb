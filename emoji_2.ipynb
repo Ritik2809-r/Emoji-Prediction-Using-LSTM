{
 "cells": [
  {
   "cell_type": "code",
   "execution_count": 1,
   "id": "6ae17efe-3fe1-4b29-aa2b-633f1a09b54f",
   "metadata": {},
   "outputs": [],
   "source": [
    "import pandas as pd\n",
    "import numpy as np\n",
    "import emoji\n",
    "#emoji is a Python library for working with emojis.\n",
    "from tensorflow.keras.models import Sequential, load_model\n",
    "from tensorflow.keras.layers import Dense, Dropout, LSTM\n",
    "from tensorflow.keras.utils import to_categorical\n",
    "from sklearn.metrics import classification_report, confusion_matrix\n",
    "import matplotlib.pyplot as plt\n",
    "import seaborn as sns\n"
   ]
  },
  {
   "cell_type": "code",
   "execution_count": 2,
   "id": "a1a9f60e-8aa8-414f-bb5b-a1c5f8f4ddd1",
   "metadata": {},
   "outputs": [],
   "source": [
    "# ======================\n",
    "# 1. Load and Prepare Data\n",
    "# ======================\n",
    "\n",
    "# Load datasets\n",
    "train_data = pd.read_csv('train_emoji.csv', header=None)\n",
    "test_data = pd.read_csv('test_emoji.csv', header=None)\n",
    "\n",
    "# Clean data\n",
    "train_data.drop(columns=[2,3], inplace=True)\n",
    "test_data.drop(columns=[2], inplace=True, errors='ignore')\n",
    "\n",
    "# Emoji mapping\n",
    "emoji_dict = {\n",
    "    0: ':red_heart:',\n",
    "    1: ':baseball:',\n",
    "    2: ':face_with_tears_of_joy:',\n",
    "    3: ':confounded_face:',\n",
    "    4: ':fork_and_knife:'\n",
    "}\n"
   ]
  },
  {
   "cell_type": "code",
   "execution_count": 3,
   "id": "409ec1d6-ba99-451c-ba42-956757c44432",
   "metadata": {},
   "outputs": [],
   "source": [
    "# ======================\n",
    "# 2. Text Processing\n",
    "# ======================\n",
    "\n",
    "# Load GloVe embeddings\n",
    "embedding_matrix = {}\n",
    "with open('glove.6B.50d.txt', encoding='utf8') as f:\n",
    "    for line in f:\n",
    "        values = line.split()\n",
    "        word = values[0]\n",
    "        vector = np.array(values[1:], dtype='float32')\n",
    "        embedding_matrix[word] = vector\n",
    "\n",
    "def text_to_embeddings(texts, max_len=10):\n",
    "    \"\"\"Convert texts to embedding matrices\"\"\"\n",
    "    embeddings = np.zeros((len(texts), max_len, 50))\n",
    "    for i, text in enumerate(texts):\n",
    "        words = text.lower().split()[:max_len]\n",
    "        for j, word in enumerate(words):\n",
    "            if word in embedding_matrix:\n",
    "                embeddings[i][j] = embedding_matrix[word]\n",
    "    return embeddings\n",
    "\n",
    "# Prepare data\n",
    "X_train = text_to_embeddings(train_data[0])\n",
    "y_train = to_categorical(train_data[1])\n",
    "X_test = text_to_embeddings(test_data[0])\n",
    "y_test = to_categorical(test_data[1])\n"
   ]
  },
  {
   "cell_type": "code",
   "execution_count": 4,
   "id": "9664beb9-4148-47c0-8922-156271c88305",
   "metadata": {},
   "outputs": [
    {
     "name": "stderr",
     "output_type": "stream",
     "text": [
      "C:\\Users\\KIIT\\anaconda3\\Lib\\site-packages\\keras\\src\\layers\\rnn\\rnn.py:200: UserWarning: Do not pass an `input_shape`/`input_dim` argument to a layer. When using Sequential models, prefer using an `Input(shape)` object as the first layer in the model instead.\n",
      "  super().__init__(**kwargs)\n"
     ]
    },
    {
     "name": "stdout",
     "output_type": "stream",
     "text": [
      "Epoch 1/50\n",
      "\u001b[1m5/5\u001b[0m \u001b[32m━━━━━━━━━━━━━━━━━━━━\u001b[0m\u001b[37m\u001b[0m \u001b[1m5s\u001b[0m 197ms/step - accuracy: 0.1703 - loss: 1.6055 - val_accuracy: 0.2857 - val_loss: 1.5506\n",
      "Epoch 2/50\n",
      "\u001b[1m5/5\u001b[0m \u001b[32m━━━━━━━━━━━━━━━━━━━━\u001b[0m\u001b[37m\u001b[0m \u001b[1m0s\u001b[0m 30ms/step - accuracy: 0.3219 - loss: 1.5237 - val_accuracy: 0.2857 - val_loss: 1.5265\n",
      "Epoch 3/50\n",
      "\u001b[1m5/5\u001b[0m \u001b[32m━━━━━━━━━━━━━━━━━━━━\u001b[0m\u001b[37m\u001b[0m \u001b[1m0s\u001b[0m 31ms/step - accuracy: 0.2873 - loss: 1.5290 - val_accuracy: 0.3929 - val_loss: 1.4795\n",
      "Epoch 4/50\n",
      "\u001b[1m5/5\u001b[0m \u001b[32m━━━━━━━━━━━━━━━━━━━━\u001b[0m\u001b[37m\u001b[0m \u001b[1m0s\u001b[0m 25ms/step - accuracy: 0.3554 - loss: 1.4480 - val_accuracy: 0.4286 - val_loss: 1.4283\n",
      "Epoch 5/50\n",
      "\u001b[1m5/5\u001b[0m \u001b[32m━━━━━━━━━━━━━━━━━━━━\u001b[0m\u001b[37m\u001b[0m \u001b[1m0s\u001b[0m 36ms/step - accuracy: 0.3996 - loss: 1.3693 - val_accuracy: 0.4107 - val_loss: 1.3858\n",
      "Epoch 6/50\n",
      "\u001b[1m5/5\u001b[0m \u001b[32m━━━━━━━━━━━━━━━━━━━━\u001b[0m\u001b[37m\u001b[0m \u001b[1m0s\u001b[0m 33ms/step - accuracy: 0.3940 - loss: 1.3324 - val_accuracy: 0.4286 - val_loss: 1.3165\n",
      "Epoch 7/50\n",
      "\u001b[1m5/5\u001b[0m \u001b[32m━━━━━━━━━━━━━━━━━━━━\u001b[0m\u001b[37m\u001b[0m \u001b[1m0s\u001b[0m 33ms/step - accuracy: 0.5638 - loss: 1.1937 - val_accuracy: 0.5357 - val_loss: 1.2596\n",
      "Epoch 8/50\n",
      "\u001b[1m5/5\u001b[0m \u001b[32m━━━━━━━━━━━━━━━━━━━━\u001b[0m\u001b[37m\u001b[0m \u001b[1m0s\u001b[0m 33ms/step - accuracy: 0.5800 - loss: 1.1243 - val_accuracy: 0.5179 - val_loss: 1.1968\n",
      "Epoch 9/50\n",
      "\u001b[1m5/5\u001b[0m \u001b[32m━━━━━━━━━━━━━━━━━━━━\u001b[0m\u001b[37m\u001b[0m \u001b[1m0s\u001b[0m 27ms/step - accuracy: 0.6470 - loss: 1.0062 - val_accuracy: 0.4821 - val_loss: 1.1422\n",
      "Epoch 10/50\n",
      "\u001b[1m5/5\u001b[0m \u001b[32m━━━━━━━━━━━━━━━━━━━━\u001b[0m\u001b[37m\u001b[0m \u001b[1m0s\u001b[0m 35ms/step - accuracy: 0.6106 - loss: 0.9287 - val_accuracy: 0.4821 - val_loss: 1.0912\n",
      "Epoch 11/50\n",
      "\u001b[1m5/5\u001b[0m \u001b[32m━━━━━━━━━━━━━━━━━━━━\u001b[0m\u001b[37m\u001b[0m \u001b[1m0s\u001b[0m 34ms/step - accuracy: 0.6827 - loss: 0.7952 - val_accuracy: 0.4643 - val_loss: 1.0801\n",
      "Epoch 12/50\n",
      "\u001b[1m5/5\u001b[0m \u001b[32m━━━━━━━━━━━━━━━━━━━━\u001b[0m\u001b[37m\u001b[0m \u001b[1m0s\u001b[0m 28ms/step - accuracy: 0.7376 - loss: 0.7533 - val_accuracy: 0.5714 - val_loss: 1.0652\n",
      "Epoch 13/50\n",
      "\u001b[1m5/5\u001b[0m \u001b[32m━━━━━━━━━━━━━━━━━━━━\u001b[0m\u001b[37m\u001b[0m \u001b[1m0s\u001b[0m 29ms/step - accuracy: 0.7254 - loss: 0.6832 - val_accuracy: 0.4821 - val_loss: 1.0947\n",
      "Epoch 14/50\n",
      "\u001b[1m5/5\u001b[0m \u001b[32m━━━━━━━━━━━━━━━━━━━━\u001b[0m\u001b[37m\u001b[0m \u001b[1m0s\u001b[0m 27ms/step - accuracy: 0.7996 - loss: 0.6176 - val_accuracy: 0.5357 - val_loss: 0.9692\n",
      "Epoch 15/50\n",
      "\u001b[1m5/5\u001b[0m \u001b[32m━━━━━━━━━━━━━━━━━━━━\u001b[0m\u001b[37m\u001b[0m \u001b[1m0s\u001b[0m 35ms/step - accuracy: 0.8273 - loss: 0.4777 - val_accuracy: 0.5536 - val_loss: 0.9970\n",
      "Epoch 16/50\n",
      "\u001b[1m5/5\u001b[0m \u001b[32m━━━━━━━━━━━━━━━━━━━━\u001b[0m\u001b[37m\u001b[0m \u001b[1m0s\u001b[0m 30ms/step - accuracy: 0.8449 - loss: 0.4228 - val_accuracy: 0.6607 - val_loss: 1.0051\n",
      "Epoch 17/50\n",
      "\u001b[1m5/5\u001b[0m \u001b[32m━━━━━━━━━━━━━━━━━━━━\u001b[0m\u001b[37m\u001b[0m \u001b[1m0s\u001b[0m 30ms/step - accuracy: 0.7913 - loss: 0.4919 - val_accuracy: 0.5357 - val_loss: 1.1458\n",
      "Epoch 18/50\n",
      "\u001b[1m5/5\u001b[0m \u001b[32m━━━━━━━━━━━━━━━━━━━━\u001b[0m\u001b[37m\u001b[0m \u001b[1m0s\u001b[0m 25ms/step - accuracy: 0.8344 - loss: 0.4926 - val_accuracy: 0.5714 - val_loss: 1.0792\n",
      "Epoch 19/50\n",
      "\u001b[1m5/5\u001b[0m \u001b[32m━━━━━━━━━━━━━━━━━━━━\u001b[0m\u001b[37m\u001b[0m \u001b[1m0s\u001b[0m 25ms/step - accuracy: 0.8555 - loss: 0.3739 - val_accuracy: 0.6250 - val_loss: 1.0041\n",
      "Epoch 20/50\n",
      "\u001b[1m5/5\u001b[0m \u001b[32m━━━━━━━━━━━━━━━━━━━━\u001b[0m\u001b[37m\u001b[0m \u001b[1m0s\u001b[0m 27ms/step - accuracy: 0.8970 - loss: 0.3218 - val_accuracy: 0.5714 - val_loss: 1.1035\n",
      "Epoch 21/50\n",
      "\u001b[1m5/5\u001b[0m \u001b[32m━━━━━━━━━━━━━━━━━━━━\u001b[0m\u001b[37m\u001b[0m \u001b[1m0s\u001b[0m 27ms/step - accuracy: 0.8399 - loss: 0.4770 - val_accuracy: 0.6071 - val_loss: 0.9937\n",
      "Epoch 22/50\n",
      "\u001b[1m5/5\u001b[0m \u001b[32m━━━━━━━━━━━━━━━━━━━━\u001b[0m\u001b[37m\u001b[0m \u001b[1m0s\u001b[0m 28ms/step - accuracy: 0.8632 - loss: 0.3080 - val_accuracy: 0.5536 - val_loss: 1.0591\n",
      "Epoch 23/50\n",
      "\u001b[1m5/5\u001b[0m \u001b[32m━━━━━━━━━━━━━━━━━━━━\u001b[0m\u001b[37m\u001b[0m \u001b[1m0s\u001b[0m 28ms/step - accuracy: 0.8660 - loss: 0.3615 - val_accuracy: 0.6071 - val_loss: 0.9661\n",
      "Epoch 24/50\n",
      "\u001b[1m5/5\u001b[0m \u001b[32m━━━━━━━━━━━━━━━━━━━━\u001b[0m\u001b[37m\u001b[0m \u001b[1m0s\u001b[0m 32ms/step - accuracy: 0.8793 - loss: 0.3120 - val_accuracy: 0.6429 - val_loss: 0.9684\n",
      "Epoch 25/50\n",
      "\u001b[1m5/5\u001b[0m \u001b[32m━━━━━━━━━━━━━━━━━━━━\u001b[0m\u001b[37m\u001b[0m \u001b[1m0s\u001b[0m 28ms/step - accuracy: 0.8483 - loss: 0.3776 - val_accuracy: 0.6250 - val_loss: 0.9948\n",
      "Epoch 26/50\n",
      "\u001b[1m5/5\u001b[0m \u001b[32m━━━━━━━━━━━━━━━━━━━━\u001b[0m\u001b[37m\u001b[0m \u001b[1m0s\u001b[0m 24ms/step - accuracy: 0.9209 - loss: 0.2480 - val_accuracy: 0.6071 - val_loss: 0.9910\n",
      "Epoch 27/50\n",
      "\u001b[1m5/5\u001b[0m \u001b[32m━━━━━━━━━━━━━━━━━━━━\u001b[0m\u001b[37m\u001b[0m \u001b[1m0s\u001b[0m 24ms/step - accuracy: 0.9078 - loss: 0.2543 - val_accuracy: 0.6429 - val_loss: 0.9306\n",
      "Epoch 28/50\n",
      "\u001b[1m5/5\u001b[0m \u001b[32m━━━━━━━━━━━━━━━━━━━━\u001b[0m\u001b[37m\u001b[0m \u001b[1m0s\u001b[0m 25ms/step - accuracy: 0.9249 - loss: 0.2244 - val_accuracy: 0.6250 - val_loss: 1.0050\n",
      "Epoch 29/50\n",
      "\u001b[1m5/5\u001b[0m \u001b[32m━━━━━━━━━━━━━━━━━━━━\u001b[0m\u001b[37m\u001b[0m \u001b[1m0s\u001b[0m 27ms/step - accuracy: 0.8903 - loss: 0.2279 - val_accuracy: 0.6250 - val_loss: 1.0773\n",
      "Epoch 30/50\n",
      "\u001b[1m5/5\u001b[0m \u001b[32m━━━━━━━━━━━━━━━━━━━━\u001b[0m\u001b[37m\u001b[0m \u001b[1m0s\u001b[0m 32ms/step - accuracy: 0.9246 - loss: 0.1961 - val_accuracy: 0.5893 - val_loss: 1.2301\n",
      "Epoch 31/50\n",
      "\u001b[1m5/5\u001b[0m \u001b[32m━━━━━━━━━━━━━━━━━━━━\u001b[0m\u001b[37m\u001b[0m \u001b[1m0s\u001b[0m 32ms/step - accuracy: 0.9253 - loss: 0.2115 - val_accuracy: 0.6071 - val_loss: 1.0407\n",
      "Epoch 32/50\n",
      "\u001b[1m5/5\u001b[0m \u001b[32m━━━━━━━━━━━━━━━━━━━━\u001b[0m\u001b[37m\u001b[0m \u001b[1m0s\u001b[0m 23ms/step - accuracy: 0.9279 - loss: 0.2028 - val_accuracy: 0.6429 - val_loss: 1.0718\n",
      "Epoch 33/50\n",
      "\u001b[1m5/5\u001b[0m \u001b[32m━━━━━━━━━━━━━━━━━━━━\u001b[0m\u001b[37m\u001b[0m \u001b[1m0s\u001b[0m 27ms/step - accuracy: 0.9583 - loss: 0.1570 - val_accuracy: 0.5893 - val_loss: 1.2601\n",
      "Epoch 34/50\n",
      "\u001b[1m5/5\u001b[0m \u001b[32m━━━━━━━━━━━━━━━━━━━━\u001b[0m\u001b[37m\u001b[0m \u001b[1m0s\u001b[0m 27ms/step - accuracy: 0.9416 - loss: 0.1788 - val_accuracy: 0.6429 - val_loss: 1.1642\n",
      "Epoch 35/50\n",
      "\u001b[1m5/5\u001b[0m \u001b[32m━━━━━━━━━━━━━━━━━━━━\u001b[0m\u001b[37m\u001b[0m \u001b[1m0s\u001b[0m 25ms/step - accuracy: 0.9433 - loss: 0.1429 - val_accuracy: 0.6429 - val_loss: 1.2352\n",
      "Epoch 36/50\n",
      "\u001b[1m5/5\u001b[0m \u001b[32m━━━━━━━━━━━━━━━━━━━━\u001b[0m\u001b[37m\u001b[0m \u001b[1m0s\u001b[0m 24ms/step - accuracy: 0.9351 - loss: 0.1790 - val_accuracy: 0.5714 - val_loss: 1.2508\n",
      "Epoch 37/50\n",
      "\u001b[1m5/5\u001b[0m \u001b[32m━━━━━━━━━━━━━━━━━━━━\u001b[0m\u001b[37m\u001b[0m \u001b[1m0s\u001b[0m 27ms/step - accuracy: 0.9450 - loss: 0.1388 - val_accuracy: 0.5714 - val_loss: 1.6161\n",
      "Epoch 38/50\n",
      "\u001b[1m5/5\u001b[0m \u001b[32m━━━━━━━━━━━━━━━━━━━━\u001b[0m\u001b[37m\u001b[0m \u001b[1m0s\u001b[0m 27ms/step - accuracy: 0.9420 - loss: 0.2109 - val_accuracy: 0.6250 - val_loss: 1.0431\n",
      "Epoch 39/50\n",
      "\u001b[1m5/5\u001b[0m \u001b[32m━━━━━━━━━━━━━━━━━━━━\u001b[0m\u001b[37m\u001b[0m \u001b[1m0s\u001b[0m 32ms/step - accuracy: 0.9850 - loss: 0.1379 - val_accuracy: 0.6607 - val_loss: 1.0196\n",
      "Epoch 40/50\n",
      "\u001b[1m5/5\u001b[0m \u001b[32m━━━━━━━━━━━━━━━━━━━━\u001b[0m\u001b[37m\u001b[0m \u001b[1m0s\u001b[0m 26ms/step - accuracy: 0.9519 - loss: 0.2145 - val_accuracy: 0.6786 - val_loss: 1.0052\n",
      "Epoch 41/50\n",
      "\u001b[1m5/5\u001b[0m \u001b[32m━━━━━━━━━━━━━━━━━━━━\u001b[0m\u001b[37m\u001b[0m \u001b[1m0s\u001b[0m 33ms/step - accuracy: 0.9644 - loss: 0.1360 - val_accuracy: 0.6429 - val_loss: 1.0112\n",
      "Epoch 42/50\n",
      "\u001b[1m5/5\u001b[0m \u001b[32m━━━━━━━━━━━━━━━━━━━━\u001b[0m\u001b[37m\u001b[0m \u001b[1m0s\u001b[0m 27ms/step - accuracy: 0.9772 - loss: 0.0812 - val_accuracy: 0.6429 - val_loss: 1.2263\n",
      "Epoch 43/50\n",
      "\u001b[1m5/5\u001b[0m \u001b[32m━━━━━━━━━━━━━━━━━━━━\u001b[0m\u001b[37m\u001b[0m \u001b[1m0s\u001b[0m 25ms/step - accuracy: 0.9807 - loss: 0.0870 - val_accuracy: 0.6429 - val_loss: 1.2827\n",
      "Epoch 44/50\n",
      "\u001b[1m5/5\u001b[0m \u001b[32m━━━━━━━━━━━━━━━━━━━━\u001b[0m\u001b[37m\u001b[0m \u001b[1m0s\u001b[0m 29ms/step - accuracy: 0.9785 - loss: 0.0749 - val_accuracy: 0.6429 - val_loss: 1.2211\n",
      "Epoch 45/50\n",
      "\u001b[1m5/5\u001b[0m \u001b[32m━━━━━━━━━━━━━━━━━━━━\u001b[0m\u001b[37m\u001b[0m \u001b[1m0s\u001b[0m 28ms/step - accuracy: 0.9785 - loss: 0.0976 - val_accuracy: 0.6250 - val_loss: 1.2299\n",
      "Epoch 46/50\n",
      "\u001b[1m5/5\u001b[0m \u001b[32m━━━━━━━━━━━━━━━━━━━━\u001b[0m\u001b[37m\u001b[0m \u001b[1m0s\u001b[0m 29ms/step - accuracy: 0.9975 - loss: 0.0444 - val_accuracy: 0.6071 - val_loss: 1.2905\n",
      "Epoch 47/50\n",
      "\u001b[1m5/5\u001b[0m \u001b[32m━━━━━━━━━━━━━━━━━━━━\u001b[0m\u001b[37m\u001b[0m \u001b[1m0s\u001b[0m 26ms/step - accuracy: 0.9889 - loss: 0.0651 - val_accuracy: 0.6250 - val_loss: 1.4857\n",
      "Epoch 48/50\n",
      "\u001b[1m5/5\u001b[0m \u001b[32m━━━━━━━━━━━━━━━━━━━━\u001b[0m\u001b[37m\u001b[0m \u001b[1m0s\u001b[0m 24ms/step - accuracy: 0.9807 - loss: 0.0650 - val_accuracy: 0.6607 - val_loss: 1.4741\n",
      "Epoch 49/50\n",
      "\u001b[1m5/5\u001b[0m \u001b[32m━━━━━━━━━━━━━━━━━━━━\u001b[0m\u001b[37m\u001b[0m \u001b[1m0s\u001b[0m 27ms/step - accuracy: 0.9918 - loss: 0.0601 - val_accuracy: 0.6071 - val_loss: 1.4167\n",
      "Epoch 50/50\n",
      "\u001b[1m5/5\u001b[0m \u001b[32m━━━━━━━━━━━━━━━━━━━━\u001b[0m\u001b[37m\u001b[0m \u001b[1m0s\u001b[0m 27ms/step - accuracy: 0.9944 - loss: 0.0401 - val_accuracy: 0.6071 - val_loss: 1.5422\n"
     ]
    }
   ],
   "source": [
    "# ======================\n",
    "# 3. Model Training\n",
    "# ======================\n",
    "\n",
    "model = Sequential([\n",
    "    LSTM(64, input_shape=(10, 50), return_sequences=True),\n",
    "    Dropout(0.5),\n",
    "    LSTM(128),\n",
    "    Dropout(0.5),\n",
    "    Dense(5, activation='softmax')\n",
    "])\n",
    "\n",
    "model.compile(optimizer='adam',\n",
    "              loss='categorical_crossentropy',\n",
    "              metrics=['accuracy'])\n",
    "\n",
    "history = model.fit(X_train, y_train, \n",
    "                   validation_data=(X_test, y_test),\n",
    "                   epochs=50, \n",
    "                   batch_size=32)"
   ]
  },
  {
   "cell_type": "code",
   "execution_count": 5,
   "id": "51c49a42-0511-4f32-bc57-26084d7f705c",
   "metadata": {},
   "outputs": [
    {
     "name": "stdout",
     "output_type": "stream",
     "text": [
      "\n",
      "Training Accuracy: 100.00%\n",
      "Test Accuracy: 60.71%\n",
      "\u001b[1m2/2\u001b[0m \u001b[32m━━━━━━━━━━━━━━━━━━━━\u001b[0m\u001b[37m\u001b[0m \u001b[1m1s\u001b[0m 366ms/step\n",
      "\n",
      "Classification Report:\n",
      "                          precision    recall  f1-score   support\n",
      "\n",
      "             :red_heart:       0.56      0.42      0.48        12\n",
      "              :baseball:       0.62      1.00      0.77         5\n",
      ":face_with_tears_of_joy:       0.69      0.50      0.58        18\n",
      "       :confounded_face:       0.47      0.60      0.53        15\n",
      "        :fork_and_knife:       0.86      1.00      0.92         6\n",
      "\n",
      "                accuracy                           0.61        56\n",
      "               macro avg       0.64      0.70      0.66        56\n",
      "            weighted avg       0.62      0.61      0.60        56\n",
      "\n"
     ]
    },
    {
     "data": {
      "image/png": "[encoded data removed]",
      "text/plain": [
       "<Figure size 800x600 with 2 Axes>"
      ]
     },
     "metadata": {},
     "output_type": "display_data"
    }
   ],
   "source": [
    "# ======================\n",
    "# 4. Evaluate Performance\n",
    "# ======================\n",
    "\n",
    "def evaluate_model():\n",
    "    # Training accuracy\n",
    "    train_loss, train_acc = model.evaluate(X_train, y_train, verbose=0)\n",
    "    print(f\"\\nTraining Accuracy: {train_acc*100:.2f}%\")\n",
    "    \n",
    "    # Test accuracy\n",
    "    test_loss, test_acc = model.evaluate(X_test, y_test, verbose=0)\n",
    "    print(f\"Test Accuracy: {test_acc*100:.2f}%\")\n",
    "    \n",
    "    # Classification report\n",
    "    y_pred = model.predict(X_test)\n",
    "    y_pred_classes = np.argmax(y_pred, axis=1)\n",
    "    y_true = np.argmax(y_test, axis=1)\n",
    "    \n",
    "    print(\"\\nClassification Report:\")\n",
    "    print(classification_report(y_true, y_pred_classes, target_names=list(emoji_dict.values())))\n",
    "    \n",
    "    # Confusion matrix\n",
    "    cm = confusion_matrix(y_true, y_pred_classes)\n",
    "    plt.figure(figsize=(8,6))\n",
    "    sns.heatmap(cm, annot=True, fmt='d', \n",
    "                xticklabels=emoji_dict.values(),\n",
    "                yticklabels=emoji_dict.values())\n",
    "    plt.title('Confusion Matrix')\n",
    "    plt.ylabel('Actual')\n",
    "    plt.xlabel('Predicted')\n",
    "    plt.show()\n",
    "\n",
    "evaluate_model()"
   ]
  },
  {
   "cell_type": "code",
   "execution_count": 6,
   "id": "2eea8349-5753-4ef0-955b-b85dfcb96bb6",
   "metadata": {},
   "outputs": [],
   "source": [
    "# ======================\n",
    "# 5. Prediction Function\n",
    "# ======================\n",
    "\n",
    "def predict_emoji(text):\n",
    "    \"\"\"Predict emoji for custom text input\"\"\"\n",
    "    # Process input text\n",
    "    embedding = text_to_embeddings([text])\n",
    "    \n",
    "    # Make prediction\n",
    "    prediction = model.predict(embedding)\n",
    "    pred_class = np.argmax(prediction)\n",
    "    confidence = np.max(prediction)\n",
    "    \n",
    "    # Get emoji\n",
    "    pred_emoji = emoji.emojize(emoji_dict[pred_class])\n",
    "    \n",
    "    print(f\"\\nInput: '{text}'\")\n",
    "    print(f\"Predicted: {pred_emoji} (Confidence: {confidence*100:.1f}%)\")\n",
    "    \n",
    "    # Show all probabilities\n",
    "    print(\"\\nAll probabilities:\")\n",
    "    for i, prob in enumerate(prediction[0]):\n",
    "        print(f\"{emoji.emojize(emoji_dict[i])}: {prob*100:.1f}%\")\n"
   ]
  },
  {
   "cell_type": "code",
   "execution_count": null,
   "id": "b8bd456f-2240-446b-a411-b7b268903820",
   "metadata": {},
   "outputs": [
    {
     "name": "stdout",
     "output_type": "stream",
     "text": [
      "\n",
      "Type 'quit' to exit\n"
     ]
    },
    {
     "name": "stdin",
     "output_type": "stream",
     "text": [
      "\n",
      "Enter text to predict emoji:  i love sweets\n"
     ]
    },
    {
     "name": "stdout",
     "output_type": "stream",
     "text": [
      "\u001b[1m1/1\u001b[0m \u001b[32m━━━━━━━━━━━━━━━━━━━━\u001b[0m\u001b[37m\u001b[0m \u001b[1m0s\u001b[0m 44ms/step\n",
      "\n",
      "Input: 'i love sweets'\n",
      "Predicted: 😂 (Confidence: 96.8%)\n",
      "\n",
      "All probabilities:\n",
      "❤️: 2.7%\n",
      "⚾: 0.0%\n",
      "😂: 96.8%\n",
      "😖: 0.0%\n",
      "🍴: 0.4%\n"
     ]
    },
    {
     "name": "stdin",
     "output_type": "stream",
     "text": [
      "\n",
      "Enter text to predict emoji:  i love sweets not\n"
     ]
    },
    {
     "name": "stdout",
     "output_type": "stream",
     "text": [
      "\u001b[1m1/1\u001b[0m \u001b[32m━━━━━━━━━━━━━━━━━━━━\u001b[0m\u001b[37m\u001b[0m \u001b[1m0s\u001b[0m 40ms/step\n",
      "\n",
      "Input: 'i love sweets not'\n",
      "Predicted: 😂 (Confidence: 97.2%)\n",
      "\n",
      "All probabilities:\n",
      "❤️: 2.4%\n",
      "⚾: 0.0%\n",
      "😂: 97.2%\n",
      "😖: 0.0%\n",
      "🍴: 0.3%\n"
     ]
    },
    {
     "name": "stdin",
     "output_type": "stream",
     "text": [
      "\n",
      "Enter text to predict emoji:  i do not like sweet\n"
     ]
    },
    {
     "name": "stdout",
     "output_type": "stream",
     "text": [
      "\u001b[1m1/1\u001b[0m \u001b[32m━━━━━━━━━━━━━━━━━━━━\u001b[0m\u001b[37m\u001b[0m \u001b[1m0s\u001b[0m 36ms/step\n",
      "\n",
      "Input: 'i do not like sweet'\n",
      "Predicted: ❤️ (Confidence: 93.7%)\n",
      "\n",
      "All probabilities:\n",
      "❤️: 93.7%\n",
      "⚾: 0.0%\n",
      "😂: 4.8%\n",
      "😖: 0.2%\n",
      "🍴: 1.2%\n"
     ]
    }
   ],
   "source": [
    "# ======================\n",
    "# 6. Interactive Prediction\n",
    "# ======================\n",
    "\n",
    "print(\"\\nType 'quit' to exit\")\n",
    "while True:\n",
    "    user_input = input(\"\\nEnter text to predict emoji: \")\n",
    "    if user_input.lower() == 'quit':\n",
    "        break\n",
    "    predict_emoji(user_input)\n",
    "\n",
    "# Save model\n",
    "model.save('emoji_predictor.h5')\n",
    "print(\"\\nModel saved as 'emoji_predictor.h5'\")"
   ]
  },
  {
   "cell_type": "code",
   "execution_count": null,
   "id": "b33912f7-0cce-4422-9130-a6ab1c8f6645",
   "metadata": {},
   "outputs": [],
   "source": []
  }
 ],
 "metadata": {
  "kernelspec": {
   "display_name": "Python 3 (ipykernel)",
   "language": "python",
   "name": "python3"
  },
  "language_info": {
   "codemirror_mode": {
    "name": "ipython",
    "version": 3
   },
   "file_extension": ".py",
   "mimetype": "text/x-python",
   "name": "python",
   "nbconvert_exporter": "python",
   "pygments_lexer": "ipython3",
   "version": "3.11.7"
  }
 },
 "nbformat": 4,
 "nbformat_minor": 5
}
